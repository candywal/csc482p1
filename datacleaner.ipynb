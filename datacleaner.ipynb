{
 "cells": [
  {
   "cell_type": "code",
   "execution_count": 1,
   "id": "bb703715",
   "metadata": {},
   "outputs": [
    {
     "name": "stdout",
     "output_type": "stream",
     "text": [
      "Collecting bs4\n",
      "  Downloading bs4-0.0.1.tar.gz (1.1 kB)\n",
      "  Preparing metadata (setup.py) ... \u001b[?25ldone\n",
      "\u001b[?25hRequirement already satisfied: beautifulsoup4 in /Users/anshul/Library/Python/3.10/lib/python/site-packages (from bs4) (4.11.1)\n",
      "Requirement already satisfied: soupsieve>1.2 in /Users/anshul/Library/Python/3.10/lib/python/site-packages (from beautifulsoup4->bs4) (2.3.2.post1)\n",
      "Building wheels for collected packages: bs4\n",
      "  Building wheel for bs4 (setup.py) ... \u001b[?25ldone\n",
      "\u001b[?25h  Created wheel for bs4: filename=bs4-0.0.1-py3-none-any.whl size=1257 sha256=71b028799fdf27fe901191016ccb6b35fa3aa87c98ecac7cd5748606a251a1ff\n",
      "  Stored in directory: /Users/anshul/Library/Caches/pip/wheels/25/42/45/b773edc52acb16cd2db4cf1a0b47117e2f69bb4eb300ed0e70\n",
      "Successfully built bs4\n",
      "Installing collected packages: bs4\n",
      "Successfully installed bs4-0.0.1\n"
     ]
    }
   ],
   "source": [
    "!pip install bs4"
   ]
  },
  {
   "cell_type": "code",
   "execution_count": 2,
   "id": "764f9b53",
   "metadata": {},
   "outputs": [
    {
     "name": "stdout",
     "output_type": "stream",
     "text": [
      "Requirement already satisfied: requests in /opt/homebrew/lib/python3.10/site-packages (2.28.1)\r\n",
      "Requirement already satisfied: urllib3<1.27,>=1.21.1 in /opt/homebrew/lib/python3.10/site-packages (from requests) (1.26.13)\r\n",
      "Requirement already satisfied: idna<4,>=2.5 in /Users/anshul/Library/Python/3.10/lib/python/site-packages (from requests) (3.4)\r\n",
      "Requirement already satisfied: charset-normalizer<3,>=2 in /opt/homebrew/lib/python3.10/site-packages (from requests) (2.1.1)\r\n",
      "Requirement already satisfied: certifi>=2017.4.17 in /opt/homebrew/lib/python3.10/site-packages (from requests) (2022.9.24)\r\n"
     ]
    }
   ],
   "source": [
    "!pip install requests"
   ]
  },
  {
   "cell_type": "code",
   "execution_count": 4,
   "id": "bc8496f0",
   "metadata": {},
   "outputs": [],
   "source": [
    "names = \"\"\"\n",
    "proj1F21_1412_A.html\n",
    "proj1F21_1412_B.html\n",
    "proj1F21_1422_A.html\n",
    "proj1F21_1422_B.html\n",
    "proj1F21_1483_A.html\n",
    "proj1F21_1483_B.html\n",
    "proj1F21_1794_A.html\n",
    "proj1F21_1794_B.html\n",
    "proj1F21_1901_A.html\n",
    "proj1F21_1901_B.html\n",
    "proj1F21_2404_A.html\n",
    "proj1F21_2404_B.html\n",
    "proj1F21_2422_A.html\n",
    "proj1F21_2422_B.html\n",
    "proj1F21_2509_A.html\n",
    "proj1F21_2509_B.html\n",
    "proj1F21_2592_A.html\n",
    "proj1F21_2592_B.html\n",
    "proj1F21_2605_A.html\n",
    "proj1F21_2605_B.html\n",
    "proj1F21_2925_A.html\n",
    "proj1F21_2925_B.html\n",
    "proj1F21_3061_A.html\n",
    "proj1F21_3061_B.html\n",
    "proj1F21_3363_A.html\n",
    "proj1F21_3363_B.html\n",
    "proj1F21_3453_A.html\n",
    "proj1F21_3453_B.html\n",
    "proj1F21_3490_A.html\n",
    "proj1F21_3490_B.html\n",
    "proj1F21_3509_A.html\n",
    "proj1F21_3509_B.html\n",
    "proj1F21_3550_A.html\n",
    "proj1F21_3550_B.html\n",
    "proj1F21_3618_A.html\n",
    "proj1F21_3618_B.html\n",
    "proj1F21_3647_A.html\n",
    "proj1F21_3647_B.html\n",
    "proj1F21_3928_A.html\n",
    "proj1F21_3928_B.html\n",
    "proj1F21_3942_A.html\n",
    "proj1F21_3942_B.html\n",
    "proj1F21_4001_A.html\n",
    "proj1F21_4001_B.html\n",
    "proj1F21_4079_A.html\n",
    "proj1F21_4079_B.html\n",
    "proj1F21_6218_A.html\n",
    "proj1F21_6218_B.html\n",
    "proj1F21_6388_A.html\n",
    "proj1F21_6388_B.html\n",
    "proj1F21_6533_A.html\n",
    "proj1F21_6533_B.html\n",
    "proj1F21_6585_A.html\n",
    "proj1F21_6585_B.html\n",
    "proj1F21_6728_A.html\n",
    "proj1F21_6728_B.html\n",
    "proj1F21_6737_A.html\n",
    "proj1F21_6737_B.html\n",
    "proj1F21_8630_A.html\n",
    "proj1F21_8630_B.html\n",
    "proj1F21_8842_A.html\n",
    "proj1F21_8842_B.html\n",
    "proj1F21_8980_A.html\n",
    "proj1F21_8980_B.html\n",
    "proj1F21_9348_A.html\n",
    "proj1F21_9348_B.html\n",
    "proj1F21_9578_A.html\n",
    "proj1F21_9578_B.html\n",
    "\"\"\""
   ]
  },
  {
   "cell_type": "code",
   "execution_count": 5,
   "id": "f3d74af7",
   "metadata": {},
   "outputs": [
    {
     "name": "stdout",
     "output_type": "stream",
     "text": [
      "['', 'proj1F21_1412_A.html', 'proj1F21_1412_B.html', 'proj1F21_1422_A.html', 'proj1F21_1422_B.html', 'proj1F21_1483_A.html', 'proj1F21_1483_B.html', 'proj1F21_1794_A.html', 'proj1F21_1794_B.html', 'proj1F21_1901_A.html', 'proj1F21_1901_B.html', 'proj1F21_2404_A.html', 'proj1F21_2404_B.html', 'proj1F21_2422_A.html', 'proj1F21_2422_B.html', 'proj1F21_2509_A.html', 'proj1F21_2509_B.html', 'proj1F21_2592_A.html', 'proj1F21_2592_B.html', 'proj1F21_2605_A.html', 'proj1F21_2605_B.html', 'proj1F21_2925_A.html', 'proj1F21_2925_B.html', 'proj1F21_3061_A.html', 'proj1F21_3061_B.html', 'proj1F21_3363_A.html', 'proj1F21_3363_B.html', 'proj1F21_3453_A.html', 'proj1F21_3453_B.html', 'proj1F21_3490_A.html', 'proj1F21_3490_B.html', 'proj1F21_3509_A.html', 'proj1F21_3509_B.html', 'proj1F21_3550_A.html', 'proj1F21_3550_B.html', 'proj1F21_3618_A.html', 'proj1F21_3618_B.html', 'proj1F21_3647_A.html', 'proj1F21_3647_B.html', 'proj1F21_3928_A.html', 'proj1F21_3928_B.html', 'proj1F21_3942_A.html', 'proj1F21_3942_B.html', 'proj1F21_4001_A.html', 'proj1F21_4001_B.html', 'proj1F21_4079_A.html', 'proj1F21_4079_B.html', 'proj1F21_6218_A.html', 'proj1F21_6218_B.html', 'proj1F21_6388_A.html', 'proj1F21_6388_B.html', 'proj1F21_6533_A.html', 'proj1F21_6533_B.html', 'proj1F21_6585_A.html', 'proj1F21_6585_B.html', 'proj1F21_6728_A.html', 'proj1F21_6728_B.html', 'proj1F21_6737_A.html', 'proj1F21_6737_B.html', 'proj1F21_8630_A.html', 'proj1F21_8630_B.html', 'proj1F21_8842_A.html', 'proj1F21_8842_B.html', 'proj1F21_8980_A.html', 'proj1F21_8980_B.html', 'proj1F21_9348_A.html', 'proj1F21_9348_B.html', 'proj1F21_9578_A.html', 'proj1F21_9578_B.html']\n"
     ]
    }
   ],
   "source": [
    "print(names.splitlines())"
   ]
  },
  {
   "cell_type": "code",
   "execution_count": 7,
   "id": "9495ed7c",
   "metadata": {},
   "outputs": [
    {
     "ename": "AttributeError",
     "evalue": "'str' object has no attribute 'write'",
     "output_type": "error",
     "traceback": [
      "\u001b[0;31m---------------------------------------------------------------------------\u001b[0m",
      "\u001b[0;31mAttributeError\u001b[0m                            Traceback (most recent call last)",
      "Cell \u001b[0;32mIn[7], line 20\u001b[0m\n\u001b[1;32m     16\u001b[0m     \u001b[38;5;28;01mreturn\u001b[39;00m \u001b[38;5;124m'\u001b[39m\u001b[38;5;124m \u001b[39m\u001b[38;5;124m'\u001b[39m\u001b[38;5;241m.\u001b[39mjoin(soup\u001b[38;5;241m.\u001b[39mstripped_strings)\n\u001b[1;32m     18\u001b[0m \u001b[38;5;28;01mfor\u001b[39;00m name \u001b[38;5;129;01min\u001b[39;00m names\u001b[38;5;241m.\u001b[39msplitlines()[\u001b[38;5;241m1\u001b[39m:]:\n\u001b[1;32m     19\u001b[0m     \u001b[38;5;66;03m# Print the extracted data\u001b[39;00m\n\u001b[0;32m---> 20\u001b[0m     \u001b[38;5;28;43mprint\u001b[39;49m\u001b[43m(\u001b[49m\u001b[43mremove_tags\u001b[49m\u001b[43m(\u001b[49m\u001b[43mname\u001b[49m\u001b[43m)\u001b[49m\u001b[43m,\u001b[49m\u001b[43m \u001b[49m\u001b[43mfile\u001b[49m\u001b[43m \u001b[49m\u001b[38;5;241;43m=\u001b[39;49m\u001b[43m \u001b[49m\u001b[43m(\u001b[49m\u001b[38;5;124;43m\"\u001b[39;49m\u001b[38;5;124;43m./txtfiles/\u001b[39;49m\u001b[38;5;124;43m\"\u001b[39;49m\u001b[38;5;241;43m+\u001b[39;49m\u001b[43mname\u001b[49m\u001b[43m[\u001b[49m\u001b[43m:\u001b[49m\u001b[38;5;241;43m-\u001b[39;49m\u001b[38;5;241;43m4\u001b[39;49m\u001b[43m]\u001b[49m\u001b[43m \u001b[49m\u001b[38;5;241;43m+\u001b[39;49m\u001b[43m \u001b[49m\u001b[38;5;124;43m\"\u001b[39;49m\u001b[38;5;124;43mtxt\u001b[39;49m\u001b[38;5;124;43m\"\u001b[39;49m\u001b[43m)\u001b[49m\u001b[43m)\u001b[49m\n",
      "\u001b[0;31mAttributeError\u001b[0m: 'str' object has no attribute 'write'"
     ]
    }
   ],
   "source": [
    "# Import Module\n",
    "from bs4 import BeautifulSoup\n",
    " \n",
    "# Function to remove tags\n",
    "def remove_tags(html):\n",
    " \n",
    "    # parse html content\n",
    "    with open(\"./proj1F21_files/\" + html) as fp:\n",
    "        soup = BeautifulSoup(fp)\n",
    " \n",
    "    for data in soup(['style', 'script']):\n",
    "        # Remove tags\n",
    "        data.decompose()\n",
    " \n",
    "    # return data by retrieving the tag content\n",
    "    return ' '.join(soup.stripped_strings)\n",
    " \n",
    "for name in names.splitlines()[1:]:\n",
    "    with open(\"testfile.txt\", \"x\") as f:\n",
    "         f.write(remove_tags(name), file = (\"./txtfiles/\"+name[:-4] + \"txt\")\n",
    "                                \n",
    "    "
   ]
  },
  {
   "cell_type": "code",
   "execution_count": null,
   "id": "b0730cef",
   "metadata": {},
   "outputs": [],
   "source": []
  }
 ],
 "metadata": {
  "kernelspec": {
   "display_name": "Python 3 (ipykernel)",
   "language": "python",
   "name": "python3"
  },
  "language_info": {
   "codemirror_mode": {
    "name": "ipython",
    "version": 3
   },
   "file_extension": ".py",
   "mimetype": "text/x-python",
   "name": "python",
   "nbconvert_exporter": "python",
   "pygments_lexer": "ipython3",
   "version": "3.10.8"
  }
 },
 "nbformat": 4,
 "nbformat_minor": 5
}
